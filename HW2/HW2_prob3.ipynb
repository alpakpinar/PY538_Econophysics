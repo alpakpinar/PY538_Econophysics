{
 "cells": [
  {
   "cell_type": "markdown",
   "metadata": {},
   "source": [
    "## Code for HW2, Problem 3\n",
    "\n",
    "Here, we use a slightly modified version of the code in `./Module_2.ipynb` to calculate the efficient frontier curve. To parametrize the curve, we construct a portfolio out of 5 stocks, and calculate the optimal weights for each value of standard deviation of the portfolio. So our constrained optimization problem becomes the following:\n",
    "\n",
    "Maximize $\\mathcal{L} = \\sum_i w_i E[r_i]$, subject to $\\sum_i w_i = 1$ and $\\sum_{ij} w_iw_j\\sigma_{ij} = \\sigma_p$, where $\\sigma_p$ is pre-provided. "
   ]
  },
  {
   "cell_type": "code",
   "execution_count": 1,
   "metadata": {},
   "outputs": [],
   "source": [
    "import numpy as np\n",
    "import matplotlib.pyplot as plt\n",
    "import scipy.stats as stats\n",
    "import pandas as pd\n",
    "\n",
    "%matplotlib inline"
   ]
  },
  {
   "cell_type": "code",
   "execution_count": 2,
   "metadata": {},
   "outputs": [],
   "source": [
    "df = pd.read_csv(\"../data/2_Stock_Prices.csv\", index_col=0, parse_dates=True)\n",
    "# Clean/transform the data\n",
    "df = df.dropna(axis=1)\n",
    "df = df.apply(np.log)\n",
    "# Get the dataframe with daily returns\n",
    "returns_df = df.diff().dropna(axis=0)"
   ]
  },
  {
   "cell_type": "code",
   "execution_count": 114,
   "metadata": {},
   "outputs": [],
   "source": [
    "from scipy.optimize import minimize\n",
    "\n",
    "# Compute the return of the portfolio, the volatility, and the Sharpe Ratio\n",
    "def get_ret_vol_sr(weights, means, cov, rf=0.05):\n",
    "    weights = np.array(weights)\n",
    "    # The means you enter are daily expected returns, so annualize them.\n",
    "    ret = np.sum(means*weights*252)\n",
    "    # The volatility is w*Sigma*w\n",
    "    vol = np.sqrt(np.dot(weights.T, np.dot(cov, weights)))\n",
    "\n",
    "    sr = (ret-rf)/vol\n",
    "\n",
    "    return np.array([ret, vol, sr])\n",
    "\n",
    "def find_weights(means, cov, std, rf=0.05):\n",
    "    '''For a fixed value of portfolio standard deviation, std, \n",
    "       find the optimal set of weights that maximizes the expected return.'''\n",
    "    \n",
    "    # Compute the return of the portfolio, the volatility, and the Sharpe Ratio\n",
    "    def get_ret_vol_sr(weights):\n",
    "        weights = np.array(weights)\n",
    "        # The means you enter are daily expected returns, so annualize them.\n",
    "        ret = np.sum(means*weights*252)\n",
    "        # The volatility is w*Sigma*w\n",
    "        vol = np.sqrt(np.dot(weights.T, np.dot(cov, weights)))\n",
    "\n",
    "        sr = (ret-rf)/vol\n",
    "\n",
    "        return np.array([ret, vol, sr])    \n",
    "          \n",
    "    # We want to maximize the Sharpe Ratio, ergo minimize the negative Sharpe Ratio.\n",
    "    def neg_sharpe(weights):\n",
    "        return -get_ret_vol_sr(weights)[2]\n",
    "\n",
    "    # Function for the constraints: We want to invest all of our money, nothing more, nothing less.\n",
    "    def check_sum(weights):\n",
    "        # Return 0 if sum of the weights is 1\n",
    "        return np.sum(weights)-1\n",
    "    \n",
    "    def fix_vol(weights, std):\n",
    "        '''Constraint on the portfolio uncertainty.'''\n",
    "        return get_ret_vol_sr(weights)[1] - std\n",
    "    \n",
    "    # Set the constraint: Weights need to sum to 1.\n",
    "    cons = ({\"type\":\"eq\", \"fun\":check_sum}, {\"type\":\"eq\", \"fun\":fix_vol, \"args\":[std]})\n",
    "    # Each stock should have some weight between 0 and 100% in our portfolio.\n",
    "    bounds = tuple([(0,1) for _ in range(len(means))])\n",
    "    \n",
    "    # Our initial guess is equally spreading the money.\n",
    "    init_guess = [1./len(means) for _ in range(len(means))]\n",
    "    \n",
    "    # Optimize!\n",
    "    opt_results = minimize(neg_sharpe, init_guess, method=\"SLSQP\", bounds=bounds, constraints=cons)\n",
    "    \n",
    "    return opt_results"
   ]
  },
  {
   "cell_type": "code",
   "execution_count": 142,
   "metadata": {},
   "outputs": [
    {
     "name": "stdout",
     "output_type": "stream",
     "text": [
      "0.010210438748849854\n",
      "0.010250000075942255\n",
      "0.010500000886611743\n",
      "0.010750004377309464\n",
      "0.011000000509737875\n",
      "0.011250000401458925\n",
      "0.011500000253805688\n",
      "0.011750000501260746\n",
      "0.012000001372065567\n",
      "0.012250000197041661\n",
      "0.012500000976630975\n",
      "0.012750000296076813\n",
      "0.0130000002766025\n",
      "0.013250000039177165\n",
      "0.013500001604646563\n",
      "0.013750002036902296\n",
      "0.014000000473353109\n",
      "0.014250000338450529\n",
      "0.014500000798177147\n",
      "0.014750000049335061\n"
     ]
    }
   ],
   "source": [
    "# Choose 5 stocks\n",
    "my_df = returns_df.loc[:, ['AAPL', 'JPM', 'EBAY', 'NFLX', 'ORCL']]\n",
    "# Expected return of each individual stock\n",
    "means = np.array([0.065/252, 0.07/252, 0.08/252, 0.075/252, 0.06/252])\n",
    "# Covariance estimated from S&P 500 data\n",
    "cov = my_df.cov()\n",
    "\n",
    "#std=np.linspace(0.001,0.015)\n",
    "std = np.arange(10,15,0.25)*0.001\n",
    "# For each standard deviation (combined)\n",
    "# run the optimizer to find the optimal weights\n",
    "# and using the optimal weights, get the exp. return\n",
    "returns = np.zeros_like(std)\n",
    "vols = np.zeros_like(std)\n",
    "sharpe_ratios = np.zeros_like(std)\n",
    "weight_list = []\n",
    "for idx, dev in enumerate(std):\n",
    "    # Run the optimizer\n",
    "    opt = find_weights(means, cov, dev, rf=0.02)\n",
    "    # If you output opt, you get a bunch of info, and in \"x\", the weights are stored.\n",
    "    weights = opt[\"x\"]\n",
    "    weight_list.append(weights)\n",
    "    # Get the expected return out of the portfolio\n",
    "    # using the optimal weights\n",
    "    ret, vol, sr = get_ret_vol_sr(weights, means, cov)\n",
    "    returns[idx] = ret\n",
    "    print(vol)\n",
    "    vols[idx] = vol\n",
    "    sharpe_ratios[idx] = sr"
   ]
  },
  {
   "cell_type": "code",
   "execution_count": 143,
   "metadata": {},
   "outputs": [
    {
     "data": {
      "image/png": "[encoded data removed]",
      "text/plain": [
       "<Figure size 432x288 with 1 Axes>"
      ]
     },
     "metadata": {
      "needs_background": "light"
     },
     "output_type": "display_data"
    }
   ],
   "source": [
    "# Plot the efficient frontier curve!\n",
    "fig, ax = plt.subplots(1,1)\n",
    "ax.plot(vols, returns)\n",
    "ax.set_xlabel('Portfolio Risk')\n",
    "ax.set_ylabel('Expected Yearly Return')\n",
    "ax.set_title('Efficient Frontier')\n",
    "ax.grid(True)\n",
    "fig.savefig('./output/eff_frontier.pdf')"
   ]
  },
  {
   "cell_type": "markdown",
   "metadata": {},
   "source": [
    "### Find Maximum Sharpe Ratio\n",
    "\n",
    "Here, we plot the Sharpe Ratios for each possible combination of stocks lying in Efficient Frontier curve, and find the optimal portfolio that maximizes the Sharpe Ratio.  "
   ]
  },
  {
   "cell_type": "code",
   "execution_count": 144,
   "metadata": {},
   "outputs": [
    {
     "name": "stdout",
     "output_type": "stream",
     "text": [
      "Maximum return: 0.0754\n"
     ]
    },
    {
     "data": {
      "image/png": "[encoded data removed]",
      "text/plain": [
       "<Figure size 432x288 with 1 Axes>"
      ]
     },
     "metadata": {
      "needs_background": "light"
     },
     "output_type": "display_data"
    }
   ],
   "source": [
    "# Find the maximum SR\n",
    "idx_max = np.argmax(sharpe_ratios)\n",
    "vol_max = vols[idx_max]\n",
    "ret_max = returns[idx_max]\n",
    "print(f'Maximum return: {ret_max:.4f}')\n",
    "\n",
    "fig, ax = plt.subplots(1,1)\n",
    "ax.plot(vols, sharpe_ratios, 'o')\n",
    "ax.plot([vol_max]*2, [1.6,2.2], 'r')\n",
    "ax.set_ylim(1.6, 2.2)\n",
    "ax.set_xlabel('Portfolio Risk')\n",
    "ax.set_ylabel('Sharpe Ratio')\n",
    "ax.grid(True)\n",
    "fig.savefig('./output/sr_risk_rf_002.pdf')"
   ]
  },
  {
   "cell_type": "code",
   "execution_count": 138,
   "metadata": {},
   "outputs": [
    {
     "name": "stdout",
     "output_type": "stream",
     "text": [
      "[1.62614296 1.7360727  1.89007573 1.95869734 2.00196577 2.03173503\n",
      " 2.0529503  2.06732607 2.07345549 2.07416969 2.07133687 2.06527017\n",
      " 2.05536597 2.04307434 2.0292784  2.01451597 1.99913822 1.9833853\n",
      " 1.96742693 1.95138597]\n"
     ]
    },
    {
     "data": {
      "text/plain": [
       "0.012250000038908209"
      ]
     },
     "execution_count": 138,
     "metadata": {},
     "output_type": "execute_result"
    }
   ],
   "source": [
    "print(sharpe_ratios)\n",
    "vols[np.argmax(sharpe_ratios)]"
   ]
  },
  {
   "cell_type": "code",
   "execution_count": 139,
   "metadata": {},
   "outputs": [
    {
     "name": "stdout",
     "output_type": "stream",
     "text": [
      "[1.62614296 1.7360727  1.89007573 1.95869734 2.00196577 2.03173503\n",
      " 2.0529503  2.06732607 2.07345549 2.07416969 2.07133687 2.06527017\n",
      " 2.05536597 2.04307434 2.0292784  2.01451597 1.99913822 1.9833853\n",
      " 1.96742693 1.95138597]\n"
     ]
    },
    {
     "data": {
      "text/plain": [
       "0.012250000038908209"
      ]
     },
     "execution_count": 139,
     "metadata": {},
     "output_type": "execute_result"
    }
   ],
   "source": [
    "print(sharpe_ratios)\n",
    "vols[np.argmax(sharpe_ratios)]"
   ]
  },
  {
   "cell_type": "code",
   "execution_count": 140,
   "metadata": {},
   "outputs": [
    {
     "data": {
      "text/plain": [
       "array([0.03777829, 0.36230265, 0.51957498, 0.08034408, 0.        ])"
      ]
     },
     "execution_count": 140,
     "metadata": {},
     "output_type": "execute_result"
    }
   ],
   "source": [
    "weight_list[idx_max] # rf = 0.0"
   ]
  },
  {
   "cell_type": "code",
   "execution_count": 145,
   "metadata": {},
   "outputs": [
    {
     "data": {
      "text/plain": [
       "array([3.77660560e-02, 3.62320355e-01, 5.19568286e-01, 8.03453031e-02,\n",
       "       1.71337825e-17])"
      ]
     },
     "execution_count": 145,
     "metadata": {},
     "output_type": "execute_result"
    }
   ],
   "source": [
    "weight_list[idx_max] # rf = 0.02"
   ]
  },
  {
   "cell_type": "code",
   "execution_count": null,
   "metadata": {},
   "outputs": [],
   "source": [
    "weight_list[idx_max] # rf = 0.05"
   ]
  }
 ],
 "metadata": {
  "kernelspec": {
   "display_name": "Python 3",
   "language": "python",
   "name": "python3"
  },
  "language_info": {
   "codemirror_mode": {
    "name": "ipython",
    "version": 3
   },
   "file_extension": ".py",
   "mimetype": "text/x-python",
   "name": "python",
   "nbconvert_exporter": "python",
   "pygments_lexer": "ipython3",
   "version": "3.7.3"
  }
 },
 "nbformat": 4,
 "nbformat_minor": 2
}
